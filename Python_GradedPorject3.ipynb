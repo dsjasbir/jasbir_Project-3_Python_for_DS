{
 "cells": [
  {
   "cell_type": "markdown",
   "id": "a0644ea2-9a36-4b20-9d01-27f5025d1b3b",
   "metadata": {},
   "source": [
    "## Dataset Description:\n",
    "### SL. No Attribute Description\n",
    "1. Loan ID : Unique Loan ID\n",
    "2. Gender  :Male or Female\n",
    "3. Married :Applicant married (Y/N)\n",
    "4. Dependents: Number of dependents\n",
    "5. Self employed: Self employed (Y/N)\n",
    "6. Education: Graduate/Undergraduate\n",
    "7. Applicant Income: Applicant income (in dollars)\n",
    "8. Co Applicant Income: Co Applicant Income (in dollars)\n",
    "9. Loan Amount: Loan amount in thousands (in dollars)\n",
    "10. Loan Amount: Term Term of loan in months\n",
    "11. Credit History: Credit history meets guidelines Yes/No(1/0)\n",
    "12. Property area: Urban/Semi Urban/Rural\n",
    "13. Loan StatusL (Target) Loan Approved (Y/N)\n"
   ]
  },
  {
   "cell_type": "markdown",
   "id": "1b93e313-964b-48c3-acac-95f8d514ec7a",
   "metadata": {},
   "source": [
    "##  Model Building and saving the model using Pickle"
   ]
  },
  {
   "cell_type": "markdown",
   "id": "fefd3731-08f8-4390-af06-31b3cc659be2",
   "metadata": {},
   "source": [
    "#### 1)  Import required libraries and read the dataset. (2)"
   ]
  },
  {
   "cell_type": "code",
   "execution_count": 1,
   "id": "ad9597de-3e4f-4fe4-ad91-6bcd3f31636a",
   "metadata": {},
   "outputs": [],
   "source": [
    "import pandas as pd\n",
    "import numpy as np\n",
    "import matplotlib.pyplot as plt\n",
    "import seaborn as sns\n",
    "import sklearn\n",
    "\n",
    "from sklearn.model_selection import train_test_split\n",
    "\n",
    "import warnings\n",
    "warnings.filterwarnings('ignore')\n",
    "\n",
    "from sklearn.ensemble import RandomForestClassifier\n",
    "from sklearn.metrics import r2_score\n",
    "\n",
    "import pickle\n"
   ]
  },
  {
   "cell_type": "markdown",
   "id": "fbc37c75-41cb-45d0-9ca2-5b56a20d3c32",
   "metadata": {},
   "source": [
    "#### 2) Check the first few samples, shape, info of the data and try to familiarize yourself with different features. (2)"
   ]
  },
  {
   "cell_type": "code",
   "execution_count": 2,
   "id": "7fa19644-8ef1-4278-9ce1-a90afda29795",
   "metadata": {},
   "outputs": [],
   "source": [
    "df = pd.read_csv('loan_approval_data.csv')"
   ]
  },
  {
   "cell_type": "code",
   "execution_count": 3,
   "id": "6e7b6001-a6a9-4fdd-82df-339f32971e92",
   "metadata": {},
   "outputs": [
    {
     "data": {
      "text/plain": [
       "(614, 13)"
      ]
     },
     "execution_count": 3,
     "metadata": {},
     "output_type": "execute_result"
    }
   ],
   "source": [
    "df.shape"
   ]
  },
  {
   "cell_type": "code",
   "execution_count": 4,
   "id": "fa7eb752-c0bf-4cd5-984f-17f13580bc5b",
   "metadata": {},
   "outputs": [
    {
     "name": "stdout",
     "output_type": "stream",
     "text": [
      "<class 'pandas.core.frame.DataFrame'>\n",
      "RangeIndex: 614 entries, 0 to 613\n",
      "Data columns (total 13 columns):\n",
      " #   Column             Non-Null Count  Dtype  \n",
      "---  ------             --------------  -----  \n",
      " 0   loan_id            614 non-null    object \n",
      " 1   gender             601 non-null    object \n",
      " 2   married            611 non-null    object \n",
      " 3   dependents         599 non-null    float64\n",
      " 4   education          614 non-null    object \n",
      " 5   self_employed      582 non-null    object \n",
      " 6   applicantincome    614 non-null    int64  \n",
      " 7   coapplicantincome  614 non-null    float64\n",
      " 8   loanamount         592 non-null    float64\n",
      " 9   loan_amount_term   600 non-null    float64\n",
      " 10  credit_history     564 non-null    float64\n",
      " 11  property_area      614 non-null    object \n",
      " 12  loan_status        614 non-null    object \n",
      "dtypes: float64(5), int64(1), object(7)\n",
      "memory usage: 62.5+ KB\n"
     ]
    }
   ],
   "source": [
    "df.info()"
   ]
  },
  {
   "cell_type": "code",
   "execution_count": 5,
   "id": "30e62ce4-4faa-472b-b2b4-8d4ce73ecb15",
   "metadata": {},
   "outputs": [
    {
     "name": "stdout",
     "output_type": "stream",
     "text": [
      "\n",
      "\n",
      "loan_id:-\n",
      "\n",
      "['lp001002' 'lp001003' 'lp001005' 'lp001006' 'lp001008' 'lp001011'\n",
      " 'lp001013' 'lp001014' 'lp001018' 'lp001020' 'lp001024' 'lp001027'\n",
      " 'lp001028' 'lp001029' 'lp001030' 'lp001032' 'lp001034' 'lp001036'\n",
      " 'lp001038' 'lp001041' 'lp001043' 'lp001046' 'lp001047' 'lp001050'\n",
      " 'lp001052' 'lp001066' 'lp001068' 'lp001073' 'lp001086' 'lp001087'\n",
      " 'lp001091' 'lp001095' 'lp001097' 'lp001098' 'lp001100' 'lp001106'\n",
      " 'lp001109' 'lp001112' 'lp001114' 'lp001116' 'lp001119' 'lp001120'\n",
      " 'lp001123' 'lp001131' 'lp001136' 'lp001137' 'lp001138' 'lp001144'\n",
      " 'lp001146' 'lp001151' 'lp001155' 'lp001157' 'lp001164' 'lp001179'\n",
      " 'lp001186' 'lp001194' 'lp001195' 'lp001197' 'lp001198' 'lp001199'\n",
      " 'lp001205' 'lp001206' 'lp001207' 'lp001213' 'lp001222' 'lp001225'\n",
      " 'lp001228' 'lp001233' 'lp001238' 'lp001241' 'lp001243' 'lp001245'\n",
      " 'lp001248' 'lp001250' 'lp001253' 'lp001255' 'lp001256' 'lp001259'\n",
      " 'lp001263' 'lp001264' 'lp001265' 'lp001266' 'lp001267' 'lp001273'\n",
      " 'lp001275' 'lp001279' 'lp001280' 'lp001282' 'lp001289' 'lp001310'\n",
      " 'lp001316' 'lp001318' 'lp001319' 'lp001322' 'lp001325' 'lp001326'\n",
      " 'lp001327' 'lp001333' 'lp001334' 'lp001343' 'lp001345' 'lp001349'\n",
      " 'lp001350' 'lp001356' 'lp001357' 'lp001367' 'lp001369' 'lp001370'\n",
      " 'lp001379' 'lp001384' 'lp001385' 'lp001387' 'lp001391' 'lp001392'\n",
      " 'lp001398' 'lp001401' 'lp001404' 'lp001405' 'lp001421' 'lp001422'\n",
      " 'lp001426' 'lp001430' 'lp001431' 'lp001432' 'lp001439' 'lp001443'\n",
      " 'lp001448' 'lp001449' 'lp001451' 'lp001465' 'lp001469' 'lp001473'\n",
      " 'lp001478' 'lp001482' 'lp001487' 'lp001488' 'lp001489' 'lp001491'\n",
      " 'lp001492' 'lp001493' 'lp001497' 'lp001498' 'lp001504' 'lp001507'\n",
      " 'lp001508' 'lp001514' 'lp001516' 'lp001518' 'lp001519' 'lp001520'\n",
      " 'lp001528' 'lp001529' 'lp001531' 'lp001532' 'lp001535' 'lp001536'\n",
      " 'lp001541' 'lp001543' 'lp001546' 'lp001552' 'lp001560' 'lp001562'\n",
      " 'lp001565' 'lp001570' 'lp001572' 'lp001574' 'lp001577' 'lp001578'\n",
      " 'lp001579' 'lp001580' 'lp001581' 'lp001585' 'lp001586' 'lp001594'\n",
      " 'lp001603' 'lp001606' 'lp001608' 'lp001610' 'lp001616' 'lp001630'\n",
      " 'lp001633' 'lp001634' 'lp001636' 'lp001637' 'lp001639' 'lp001640'\n",
      " 'lp001641' 'lp001643' 'lp001644' 'lp001647' 'lp001653' 'lp001656'\n",
      " 'lp001657' 'lp001658' 'lp001664' 'lp001665' 'lp001666' 'lp001669'\n",
      " 'lp001671' 'lp001673' 'lp001674' 'lp001677' 'lp001682' 'lp001688'\n",
      " 'lp001691' 'lp001692' 'lp001693' 'lp001698' 'lp001699' 'lp001702'\n",
      " 'lp001708' 'lp001711' 'lp001713' 'lp001715' 'lp001716' 'lp001720'\n",
      " 'lp001722' 'lp001726' 'lp001732' 'lp001734' 'lp001736' 'lp001743'\n",
      " 'lp001744' 'lp001749' 'lp001750' 'lp001751' 'lp001754' 'lp001758'\n",
      " 'lp001760' 'lp001761' 'lp001765' 'lp001768' 'lp001770' 'lp001776'\n",
      " 'lp001778' 'lp001784' 'lp001786' 'lp001788' 'lp001790' 'lp001792'\n",
      " 'lp001798' 'lp001800' 'lp001806' 'lp001807' 'lp001811' 'lp001813'\n",
      " 'lp001814' 'lp001819' 'lp001824' 'lp001825' 'lp001835' 'lp001836'\n",
      " 'lp001841' 'lp001843' 'lp001844' 'lp001846' 'lp001849' 'lp001854'\n",
      " 'lp001859' 'lp001864' 'lp001865' 'lp001868' 'lp001870' 'lp001871'\n",
      " 'lp001872' 'lp001875' 'lp001877' 'lp001882' 'lp001883' 'lp001884'\n",
      " 'lp001888' 'lp001891' 'lp001892' 'lp001894' 'lp001896' 'lp001900'\n",
      " 'lp001903' 'lp001904' 'lp001907' 'lp001908' 'lp001910' 'lp001914'\n",
      " 'lp001915' 'lp001917' 'lp001922' 'lp001924' 'lp001925' 'lp001926'\n",
      " 'lp001931' 'lp001935' 'lp001936' 'lp001938' 'lp001940' 'lp001945'\n",
      " 'lp001947' 'lp001949' 'lp001953' 'lp001954' 'lp001955' 'lp001963'\n",
      " 'lp001964' 'lp001972' 'lp001974' 'lp001977' 'lp001978' 'lp001990'\n",
      " 'lp001993' 'lp001994' 'lp001996' 'lp001998' 'lp002002' 'lp002004'\n",
      " 'lp002006' 'lp002008' 'lp002024' 'lp002031' 'lp002035' 'lp002036'\n",
      " 'lp002043' 'lp002050' 'lp002051' 'lp002053' 'lp002054' 'lp002055'\n",
      " 'lp002065' 'lp002067' 'lp002068' 'lp002082' 'lp002086' 'lp002087'\n",
      " 'lp002097' 'lp002098' 'lp002100' 'lp002101' 'lp002103' 'lp002106'\n",
      " 'lp002110' 'lp002112' 'lp002113' 'lp002114' 'lp002115' 'lp002116'\n",
      " 'lp002119' 'lp002126' 'lp002128' 'lp002129' 'lp002130' 'lp002131'\n",
      " 'lp002137' 'lp002138' 'lp002139' 'lp002140' 'lp002141' 'lp002142'\n",
      " 'lp002143' 'lp002144' 'lp002149' 'lp002151' 'lp002158' 'lp002160'\n",
      " 'lp002161' 'lp002170' 'lp002175' 'lp002178' 'lp002180' 'lp002181'\n",
      " 'lp002187' 'lp002188' 'lp002190' 'lp002191' 'lp002194' 'lp002197'\n",
      " 'lp002201' 'lp002205' 'lp002209' 'lp002211' 'lp002219' 'lp002223'\n",
      " 'lp002224' 'lp002225' 'lp002226' 'lp002229' 'lp002231' 'lp002234'\n",
      " 'lp002236' 'lp002237' 'lp002239' 'lp002243' 'lp002244' 'lp002250'\n",
      " 'lp002255' 'lp002262' 'lp002263' 'lp002265' 'lp002266' 'lp002272'\n",
      " 'lp002277' 'lp002281' 'lp002284' 'lp002287' 'lp002288' 'lp002296'\n",
      " 'lp002297' 'lp002300' 'lp002301' 'lp002305' 'lp002308' 'lp002314'\n",
      " 'lp002315' 'lp002317' 'lp002318' 'lp002319' 'lp002328' 'lp002332'\n",
      " 'lp002335' 'lp002337' 'lp002341' 'lp002342' 'lp002345' 'lp002347'\n",
      " 'lp002348' 'lp002357' 'lp002361' 'lp002362' 'lp002364' 'lp002366'\n",
      " 'lp002367' 'lp002368' 'lp002369' 'lp002370' 'lp002377' 'lp002379'\n",
      " 'lp002386' 'lp002387' 'lp002390' 'lp002393' 'lp002398' 'lp002401'\n",
      " 'lp002403' 'lp002407' 'lp002408' 'lp002409' 'lp002418' 'lp002422'\n",
      " 'lp002424' 'lp002429' 'lp002434' 'lp002435' 'lp002443' 'lp002444'\n",
      " 'lp002446' 'lp002447' 'lp002448' 'lp002449' 'lp002453' 'lp002455'\n",
      " 'lp002459' 'lp002467' 'lp002472' 'lp002473' 'lp002478' 'lp002484'\n",
      " 'lp002487' 'lp002489' 'lp002493' 'lp002494' 'lp002500' 'lp002501'\n",
      " 'lp002502' 'lp002505' 'lp002515' 'lp002517' 'lp002519' 'lp002522'\n",
      " 'lp002524' 'lp002527' 'lp002529' 'lp002530' 'lp002531' 'lp002533'\n",
      " 'lp002534' 'lp002536' 'lp002537' 'lp002541' 'lp002543' 'lp002544'\n",
      " 'lp002545' 'lp002547' 'lp002555' 'lp002556' 'lp002560' 'lp002562'\n",
      " 'lp002571' 'lp002582' 'lp002585' 'lp002586' 'lp002587' 'lp002588'\n",
      " 'lp002600' 'lp002602' 'lp002603' 'lp002606' 'lp002615' 'lp002618'\n",
      " 'lp002619' 'lp002622' 'lp002624' 'lp002625' 'lp002626' 'lp002634'\n",
      " 'lp002637' 'lp002640' 'lp002643' 'lp002648' 'lp002652' 'lp002659'\n",
      " 'lp002670' 'lp002682' 'lp002683' 'lp002684' 'lp002689' 'lp002690'\n",
      " 'lp002692' 'lp002693' 'lp002697' 'lp002699' 'lp002705' 'lp002706'\n",
      " 'lp002714' 'lp002716' 'lp002717' 'lp002720' 'lp002723' 'lp002729'\n",
      " 'lp002731' 'lp002732' 'lp002734' 'lp002738' 'lp002739' 'lp002740'\n",
      " 'lp002741' 'lp002743' 'lp002753' 'lp002755' 'lp002757' 'lp002767'\n",
      " 'lp002768' 'lp002772' 'lp002776' 'lp002777' 'lp002778' 'lp002784'\n",
      " 'lp002785' 'lp002788' 'lp002789' 'lp002792' 'lp002794' 'lp002795'\n",
      " 'lp002798' 'lp002804' 'lp002807' 'lp002813' 'lp002820' 'lp002821'\n",
      " 'lp002832' 'lp002833' 'lp002836' 'lp002837' 'lp002840' 'lp002841'\n",
      " 'lp002842' 'lp002847' 'lp002855' 'lp002862' 'lp002863' 'lp002868'\n",
      " 'lp002872' 'lp002874' 'lp002877' 'lp002888' 'lp002892' 'lp002893'\n",
      " 'lp002894' 'lp002898' 'lp002911' 'lp002912' 'lp002916' 'lp002917'\n",
      " 'lp002925' 'lp002926' 'lp002928' 'lp002931' 'lp002933' 'lp002936'\n",
      " 'lp002938' 'lp002940' 'lp002941' 'lp002943' 'lp002945' 'lp002948'\n",
      " 'lp002949' 'lp002950' 'lp002953' 'lp002958' 'lp002959' 'lp002960'\n",
      " 'lp002961' 'lp002964' 'lp002974' 'lp002978' 'lp002979' 'lp002983'\n",
      " 'lp002984' 'lp002990']\n",
      "\n",
      "\n",
      "gender:-\n",
      "\n",
      "['male' 'female' nan]\n",
      "\n",
      "\n",
      "married:-\n",
      "\n",
      "['no' 'yes' nan]\n",
      "\n",
      "\n",
      "dependents:-\n",
      "\n",
      "[ 0.  1.  2.  3. nan]\n",
      "\n",
      "\n",
      "education:-\n",
      "\n",
      "['graduate' 'not graduate']\n",
      "\n",
      "\n",
      "self_employed:-\n",
      "\n",
      "['no' 'yes' nan]\n",
      "\n",
      "\n",
      "applicantincome:-\n",
      "\n",
      "[ 5849  4583  3000  2583  6000  5417  2333  3036  4006 12841  3200  2500\n",
      "  3073  1853  1299  4950  3596  3510  4887  2600  7660  5955  3365  3717\n",
      "  9560  2799  4226  1442  3750  4166  3167  4692  3500 12500  2275  1828\n",
      "  3667  3748  3600  1800  2400  3941  4695  3410  5649  5821  2645  4000\n",
      "  1928  3086  4230  4616 11500  2708  2132  3366  8080  3357  3029  2609\n",
      "  4945  5726 10750  7100  4300  3208  1875  4755  5266  1000  3333  3846\n",
      "  2395  1378  3988  2366  8566  5695  2958  6250  3273  4133  3620  6782\n",
      "  2484  1977  4188  1759  4288  4843 13650  4652  3816  3052 11417  7333\n",
      "  3800  2071  5316  2929  3572  7451  5050 14583  2214  5568 10408  5667\n",
      "  2137  2957  3692 23803  3865 10513  6080 20166  2014  2718  3459  4895\n",
      "  3316 14999  4200  5042  6950  2698 11757  2330 14866  1538 10000  4860\n",
      "  6277  2577  9166  2281  3254 39999  9538  2980  1863  7933  3089  4167\n",
      "  9323  3707  2439  2237  8000  1820 51763  3522  5708  4344  3497  2045\n",
      "  5516  6400  1916  4600 33846  3625 39147  2178  2383   674  9328  4885\n",
      " 12000  6033  3858  4191  3125  8333  1907  3416 11000  4923  3992  3917\n",
      "  4408  3244  3975  2479  3418  3430  7787  5703  3173  3850   150  3727\n",
      "  5000  4283  2221  4009  2971  7578  3250  4735  4758  2491  3716  3189\n",
      "  3155  5500  5746  3463  3812  3315  5819  2510  2965  3406  6050  9703\n",
      "  6608  2882  1809  1668  3427  2661 16250  3083  6045  5250 14683  4931\n",
      "  6083  2060  3481  7200  5166  4095  4708  4333  2876  3237 11146  2833\n",
      "  2620  3900  2750  3993  3103  4100  4053  3927  2301  1811 20667  3158\n",
      "  3704  4124  9508  3075  4400  3153  4416  6875  4666  2875  1625  2000\n",
      "  3762 20233  7667  2917  2927  2507  2473  3399  2058  3541  4342  3601\n",
      "  3166 15000  8666  4917  5818  4384  2935 63337  9833  5503  1830  4160\n",
      "  2647  2378  4554  2499  3523  6333  2625  9083  8750  2666  2423  3813\n",
      "  3875  5167  4723  4750  3013  6822  6216  5124  6325 19730 15759  5185\n",
      "  3062  2764  4817  4310  3069  5391  5941  7167  4566  2346  3010  5488\n",
      "  9167  9504  1993  3100  3276  3180  3033  3902  1500  2889  2755  1963\n",
      "  7441  4547  2167  2213  8300 81000  3867  6256  6096  2253  2149  2995\n",
      "  1600  1025  3246  5829  2720  7250 14880  4606  5935  2920  2717  8624\n",
      "  6500 12876  2425 10047  1926 10416  7142  3660  7901  4707 37719  3466\n",
      "  3539  3340  2769  2309  1958  3948  2483  7085  3859  4301  3708  4354\n",
      "  8334  2083  7740  3015  5191  2947 16692   210  3450  2653  4691  5532\n",
      " 16525  6700  2873 16667  4350  3095 10833  3547 18333  2435  2699  5333\n",
      "  3691 17263  3597  3326  4625  2895  6283   645  3159  4865  4050  3814\n",
      " 20833  3583 13262  3598  6065  3283  2130  5815  2031  3074  4683  3400\n",
      "  2192  5677  7948  4680 17500  3775  5285  2679  6783  4281  3588 11250\n",
      " 18165  2550  6133  3617  6417  4608  2138  3652  2239  3017  2768  3358\n",
      "  2526  2785  6633  2492  2454  3593  5468  2667 10139  3887  4180  3675\n",
      " 19484  5923  5800  8799  4467  3417  5116 16666  6125  6406  3087  3229\n",
      "  1782  3182  6540  1836  1880  2787  2297  2165  2726  9357 16120  3833\n",
      "  6383  2987  9963  5780   416  2894  3676  3987  3232  2900  4106  8072\n",
      "  7583]\n",
      "\n",
      "\n",
      "coapplicantincome:-\n",
      "\n",
      "[0.00000000e+00 1.50800000e+03 2.35800000e+03 4.19600000e+03\n",
      " 1.51600000e+03 2.50400000e+03 1.52600000e+03 1.09680000e+04\n",
      " 7.00000000e+02 1.84000000e+03 8.10600000e+03 2.84000000e+03\n",
      " 1.08600000e+03 3.50000000e+03 5.62500000e+03 1.91100000e+03\n",
      " 1.91700000e+03 2.92500000e+03 2.25300000e+03 1.04000000e+03\n",
      " 2.08300000e+03 3.36900000e+03 1.66700000e+03 3.00000000e+03\n",
      " 2.06700000e+03 1.33000000e+03 1.45900000e+03 7.21000000e+03\n",
      " 1.66800000e+03 1.21300000e+03 2.33600000e+03 3.44000000e+03\n",
      " 2.27500000e+03 1.64400000e+03 1.16700000e+03 1.59100000e+03\n",
      " 2.20000000e+03 2.25000000e+03 2.85900000e+03 3.79600000e+03\n",
      " 3.44900000e+03 4.59500000e+03 2.25400000e+03 3.06600000e+03\n",
      " 1.87500000e+03 1.77400000e+03 4.75000000e+03 3.02200000e+03\n",
      " 4.00000000e+03 2.16600000e+03 1.88100000e+03 2.53100000e+03\n",
      " 2.00000000e+03 2.11800000e+03 4.16700000e+03 2.90000000e+03\n",
      " 5.65400000e+03 1.82000000e+03 2.30200000e+03 9.97000000e+02\n",
      " 3.54100000e+03 3.26300000e+03 3.80600000e+03 3.58300000e+03\n",
      " 7.54000000e+02 1.03000000e+03 1.12600000e+03 3.60000000e+03\n",
      " 2.33300000e+03 4.11400000e+03 2.28300000e+03 1.39800000e+03\n",
      " 2.14200000e+03 2.66700000e+03 8.98000000e+03 2.01400000e+03\n",
      " 1.64000000e+03 3.85000000e+03 2.56900000e+03 1.92900000e+03\n",
      " 7.75000000e+03 1.43000000e+03 2.03400000e+03 4.48600000e+03\n",
      " 1.42500000e+03 1.66600000e+03 8.30000000e+02 3.75000000e+03\n",
      " 1.04100000e+03 1.28000000e+03 1.44700000e+03 3.16600000e+03\n",
      " 3.33300000e+03 1.76900000e+03 7.36000000e+02 1.96400000e+03\n",
      " 1.61900000e+03 1.13000000e+04 1.45100000e+03 7.25000000e+03\n",
      " 5.06300000e+03 2.13800000e+03 5.29600000e+03 2.58300000e+03\n",
      " 2.36500000e+03 2.81600000e+03 2.50000000e+03 1.08300000e+03\n",
      " 1.25000000e+03 3.02100000e+03 9.83000000e+02 1.80000000e+03\n",
      " 1.77500000e+03 2.38300000e+03 1.71700000e+03 2.79100000e+03\n",
      " 1.01000000e+03 1.69500000e+03 2.05400000e+03 2.59800000e+03\n",
      " 1.77900000e+03 1.26000000e+03 5.00000000e+03 1.98300000e+03\n",
      " 5.70100000e+03 1.30000000e+03 4.41700000e+03 4.33300000e+03\n",
      " 1.84300000e+03 1.86800000e+03 3.89000000e+03 2.16700000e+03\n",
      " 7.10100000e+03 2.10000000e+03 4.25000000e+03 2.20900000e+03\n",
      " 3.44700000e+03 1.38700000e+03 1.81100000e+03 1.56000000e+03\n",
      " 1.85700000e+03 2.22300000e+03 1.84200000e+03 3.27400000e+03\n",
      " 2.42600000e+03 8.00000000e+02 9.85799988e+02 3.05300000e+03\n",
      " 2.41600000e+03 3.33400000e+03 2.54100000e+03 2.93400000e+03\n",
      " 1.75000000e+03 1.80300000e+03 1.86300000e+03 2.40500000e+03\n",
      " 2.13400000e+03 1.89000000e+02 1.59000000e+03 2.98500000e+03\n",
      " 4.98300000e+03 2.16000000e+03 2.45100000e+03 1.79300000e+03\n",
      " 1.83300000e+03 4.49000000e+03 6.88000000e+02 4.60000000e+03\n",
      " 1.58700000e+03 1.22900000e+03 2.33000000e+03 2.45800000e+03\n",
      " 3.23000000e+03 2.16800000e+03 4.58300000e+03 6.25000000e+03\n",
      " 5.05000000e+02 3.16700000e+03 3.66700000e+03 3.03300000e+03\n",
      " 5.26600000e+03 7.87300000e+03 1.98700000e+03 9.23000000e+02\n",
      " 4.99600000e+03 4.23200000e+03 1.60000000e+03 3.13600000e+03\n",
      " 2.41700000e+03 2.11500000e+03 1.62500000e+03 1.40000000e+03\n",
      " 4.84000000e+02 2.00000000e+04 2.40000000e+03 2.03300000e+03\n",
      " 3.23700000e+03 2.77300000e+03 1.41700000e+03 1.71900000e+03\n",
      " 4.30000000e+03 1.61200008e+01 2.34000000e+03 1.85100000e+03\n",
      " 1.12500000e+03 5.06400000e+03 1.99300000e+03 8.33300000e+03\n",
      " 1.21000000e+03 1.37600000e+03 1.71000000e+03 1.54200000e+03\n",
      " 1.25500000e+03 1.45600000e+03 1.73300000e+03 2.46600000e+03\n",
      " 4.08300000e+03 2.18800000e+03 1.66400000e+03 2.91700000e+03\n",
      " 2.07900000e+03 1.50000000e+03 4.64800000e+03 1.01400000e+03\n",
      " 1.87200000e+03 1.60300000e+03 3.15000000e+03 2.43600000e+03\n",
      " 2.78500000e+03 1.13100000e+03 2.15700000e+03 9.13000000e+02\n",
      " 1.70000000e+03 2.85700000e+03 4.41600000e+03 3.68300000e+03\n",
      " 5.62400000e+03 5.30200000e+03 1.48300000e+03 6.66700000e+03\n",
      " 3.01300000e+03 1.28700000e+03 2.00400000e+03 2.03500000e+03\n",
      " 6.66600000e+03 3.66600000e+03 3.42800000e+03 1.63200000e+03\n",
      " 1.91500000e+03 1.74200000e+03 1.42400000e+03 7.16600000e+03\n",
      " 2.08700000e+03 1.30200000e+03 5.50000000e+03 2.04200000e+03\n",
      " 3.90600000e+03 5.36000000e+02 2.84500000e+03 2.52400000e+03\n",
      " 6.63000000e+02 1.95000000e+03 1.78300000e+03 2.01600000e+03\n",
      " 2.37500000e+03 3.25000000e+03 4.26600000e+03 1.03200000e+03\n",
      " 2.66900000e+03 2.30600000e+03 2.42000000e+02 2.06400000e+03\n",
      " 4.61000000e+02 2.21000000e+03 2.73900000e+03 2.23200000e+03\n",
      " 3.38370000e+04 1.52200000e+03 3.41600000e+03 3.30000000e+03\n",
      " 1.00000000e+03 4.16670000e+04 2.79200000e+03 4.30100000e+03\n",
      " 3.80000000e+03 1.41100000e+03 2.40000000e+02]\n",
      "\n",
      "\n",
      "loanamount:-\n",
      "\n",
      "[ nan 128.  66. 120. 141. 267.  95. 158. 168. 349.  70. 109. 200. 114.\n",
      "  17. 125. 100.  76. 133. 115. 104. 315. 116. 112. 151. 191. 122. 110.\n",
      "  35. 201.  74. 106. 320. 144. 184.  80.  47.  75. 134.  96.  88.  44.\n",
      " 286.  97. 135. 180.  99. 165. 258. 126. 312. 136. 172.  81. 187. 113.\n",
      " 176. 130. 111. 167. 265.  50. 210. 175. 131. 188.  25. 137. 160. 225.\n",
      " 216.  94. 139. 152. 118. 185. 154.  85. 259. 194.  93. 370. 182. 650.\n",
      " 102. 290.  84. 242. 129.  30. 244. 600. 255.  98. 275. 121.  63. 700.\n",
      "  87. 101. 495.  67.  73. 260. 108.  58.  48. 164. 170.  83.  90. 166.\n",
      " 124.  55.  59. 127. 214. 240.  72.  60. 138.  42. 280. 140. 155. 123.\n",
      " 279. 192. 304. 330. 150. 207. 436.  78.  54.  89. 143. 105. 132. 480.\n",
      "  56. 159. 300. 376. 117.  71. 490. 173.  46. 228. 308. 236. 570. 380.\n",
      " 296. 156. 103.  45.  65.  53. 360.  62. 218. 178. 239. 405. 148. 190.\n",
      " 149. 153. 162. 230.  86. 234. 246. 500. 186. 119. 107. 209. 208. 243.\n",
      "  40. 250. 311. 400. 161. 196. 324. 157. 145. 181.  26. 211.   9. 205.\n",
      "  36.  61. 146. 292. 142. 350. 496. 253.]\n",
      "\n",
      "\n",
      "loan_amount_term:-\n",
      "\n",
      "[360. 120. 240.  nan 180.  60. 300. 480.  36.  84.  12.]\n",
      "\n",
      "\n",
      "credit_history:-\n",
      "\n",
      "[ 1.  0. nan]\n",
      "\n",
      "\n",
      "property_area:-\n",
      "\n",
      "['urban' 'rural' 'semiurban']\n",
      "\n",
      "\n",
      "loan_status:-\n",
      "\n",
      "['y' 'n']\n"
     ]
    }
   ],
   "source": [
    "for feature in list(df):\n",
    "    print(\"\\n\\n\" + feature + \":-\\n\")\n",
    "    print(df[feature].unique())"
   ]
  },
  {
   "cell_type": "markdown",
   "id": "2fb1fa02-0650-4db4-a4f4-3af3aecc91a7",
   "metadata": {},
   "source": [
    "#### 3) Check for missing values in the dataset, if present? handle them with appropriate methods and drop redundant features. (2)"
   ]
  },
  {
   "cell_type": "code",
   "execution_count": 6,
   "id": "4b8923de-23cd-44af-bdb3-2dd2176d0793",
   "metadata": {},
   "outputs": [
    {
     "data": {
      "text/plain": [
       "loan_id              0.000000\n",
       "gender               2.117264\n",
       "married              0.488599\n",
       "dependents           2.442997\n",
       "education            0.000000\n",
       "self_employed        5.211726\n",
       "applicantincome      0.000000\n",
       "coapplicantincome    0.000000\n",
       "loanamount           3.583062\n",
       "loan_amount_term     2.280130\n",
       "credit_history       8.143322\n",
       "property_area        0.000000\n",
       "loan_status          0.000000\n",
       "dtype: float64"
      ]
     },
     "execution_count": 6,
     "metadata": {},
     "output_type": "execute_result"
    }
   ],
   "source": [
    "df.isnull().sum()/len(df)*100"
   ]
  },
  {
   "cell_type": "code",
   "execution_count": 7,
   "id": "d8fc68d6-d7dc-474b-b34d-09f12737837c",
   "metadata": {},
   "outputs": [],
   "source": [
    "df.drop(['loan_id'], axis=1, inplace=True)"
   ]
  },
  {
   "cell_type": "code",
   "execution_count": 8,
   "id": "50dcedde-11dd-4c73-b945-74ebbad70eaa",
   "metadata": {},
   "outputs": [
    {
     "data": {
      "text/plain": [
       "0"
      ]
     },
     "execution_count": 8,
     "metadata": {},
     "output_type": "execute_result"
    }
   ],
   "source": [
    "df.duplicated().sum()"
   ]
  },
  {
   "cell_type": "code",
   "execution_count": 9,
   "id": "9e53ad9b-a533-4aed-af0a-0c49ddabe6d0",
   "metadata": {},
   "outputs": [],
   "source": [
    "df.dropna(inplace=True)"
   ]
  },
  {
   "cell_type": "code",
   "execution_count": 10,
   "id": "a393a631-13ca-4f83-b5d7-ccd9cbc6c246",
   "metadata": {},
   "outputs": [
    {
     "data": {
      "text/plain": [
       "gender               0.0\n",
       "married              0.0\n",
       "dependents           0.0\n",
       "education            0.0\n",
       "self_employed        0.0\n",
       "applicantincome      0.0\n",
       "coapplicantincome    0.0\n",
       "loanamount           0.0\n",
       "loan_amount_term     0.0\n",
       "credit_history       0.0\n",
       "property_area        0.0\n",
       "loan_status          0.0\n",
       "dtype: float64"
      ]
     },
     "execution_count": 10,
     "metadata": {},
     "output_type": "execute_result"
    }
   ],
   "source": [
    "df.isnull().sum()/len(df)*100"
   ]
  },
  {
   "cell_type": "code",
   "execution_count": 11,
   "id": "bb062cec-39c4-40c6-92da-06b5f72d18c9",
   "metadata": {},
   "outputs": [],
   "source": [
    "df['total_income'] = df[['applicantincome','coapplicantincome']].sum(axis=1)"
   ]
  },
  {
   "cell_type": "code",
   "execution_count": 12,
   "id": "e6219352-78a7-4877-9274-a040bacf1d40",
   "metadata": {},
   "outputs": [],
   "source": [
    "df.drop(['applicantincome', 'coapplicantincome'],axis=1, inplace=True)"
   ]
  },
  {
   "cell_type": "markdown",
   "id": "4d9bec99-9965-42ad-a311-7a3f9dc983f9",
   "metadata": {},
   "source": [
    "#### 4. Visualize the distribution of the target column 'loan_status' with respect to various categorical features and write your observations. (2)\n"
   ]
  },
  {
   "cell_type": "code",
   "execution_count": 13,
   "id": "77614447-7ba7-4c47-b746-1187629bd2e4",
   "metadata": {},
   "outputs": [
    {
     "name": "stdout",
     "output_type": "stream",
     "text": [
      "gender\n"
     ]
    },
    {
     "data": {
      "image/png": "[encoded data removed]",
      "text/plain": [
       "<Figure size 720x288 with 1 Axes>"
      ]
     },
     "metadata": {
      "needs_background": "light"
     },
     "output_type": "display_data"
    },
    {
     "name": "stdout",
     "output_type": "stream",
     "text": [
      "married\n"
     ]
    },
    {
     "data": {
      "image/png": "[encoded data removed]",
      "text/plain": [
       "<Figure size 720x288 with 1 Axes>"
      ]
     },
     "metadata": {
      "needs_background": "light"
     },
     "output_type": "display_data"
    },
    {
     "name": "stdout",
     "output_type": "stream",
     "text": [
      "dependents\n"
     ]
    },
    {
     "data": {
      "image/png": "[encoded data removed]",
      "text/plain": [
       "<Figure size 720x288 with 1 Axes>"
      ]
     },
     "metadata": {
      "needs_background": "light"
     },
     "output_type": "display_data"
    },
    {
     "name": "stdout",
     "output_type": "stream",
     "text": [
      "education\n"
     ]
    },
    {
     "data": {
      "image/png": "[encoded data removed]",
      "text/plain": [
       "<Figure size 720x288 with 1 Axes>"
      ]
     },
     "metadata": {
      "needs_background": "light"
     },
     "output_type": "display_data"
    },
    {
     "name": "stdout",
     "output_type": "stream",
     "text": [
      "self_employed\n"
     ]
    },
    {
     "data": {
      "image/png": "[encoded data removed]",
      "text/plain": [
       "<Figure size 720x288 with 1 Axes>"
      ]
     },
     "metadata": {
      "needs_background": "light"
     },
     "output_type": "display_data"
    },
    {
     "name": "stdout",
     "output_type": "stream",
     "text": [
      "loanamount\n"
     ]
    },
    {
     "data": {
      "image/png": "[encoded data removed]",
      "text/plain": [
       "<Figure size 720x288 with 1 Axes>"
      ]
     },
     "metadata": {
      "needs_background": "light"
     },
     "output_type": "display_data"
    },
    {
     "name": "stdout",
     "output_type": "stream",
     "text": [
      "loan_amount_term\n"
     ]
    },
    {
     "data": {
      "image/png": "[encoded data removed]",
      "text/plain": [
       "<Figure size 720x288 with 1 Axes>"
      ]
     },
     "metadata": {
      "needs_background": "light"
     },
     "output_type": "display_data"
    },
    {
     "name": "stdout",
     "output_type": "stream",
     "text": [
      "credit_history\n"
     ]
    },
    {
     "data": {
      "image/png": "[encoded data removed]",
      "text/plain": [
       "<Figure size 720x288 with 1 Axes>"
      ]
     },
     "metadata": {
      "needs_background": "light"
     },
     "output_type": "display_data"
    },
    {
     "name": "stdout",
     "output_type": "stream",
     "text": [
      "property_area\n"
     ]
    },
    {
     "data": {
      "image/png": "[encoded data removed]",
      "text/plain": [
       "<Figure size 720x288 with 1 Axes>"
      ]
     },
     "metadata": {
      "needs_background": "light"
     },
     "output_type": "display_data"
    },
    {
     "name": "stdout",
     "output_type": "stream",
     "text": [
      "loan_status\n"
     ]
    },
    {
     "data": {
      "image/png": "[encoded data removed]",
      "text/plain": [
       "<Figure size 720x288 with 1 Axes>"
      ]
     },
     "metadata": {
      "needs_background": "light"
     },
     "output_type": "display_data"
    },
    {
     "name": "stdout",
     "output_type": "stream",
     "text": [
      "total_income\n"
     ]
    },
    {
     "data": {
      "image/png": "[encoded data removed]",
      "text/plain": [
       "<Figure size 720x288 with 1 Axes>"
      ]
     },
     "metadata": {
      "needs_background": "light"
     },
     "output_type": "display_data"
    }
   ],
   "source": [
    "for features in list(df):\n",
    "    print(features)\n",
    "    if (df[features].dtype=='O'):\n",
    "        plt.figure(figsize=(10,4))\n",
    "        sns.countplot(df[features], hue = df.loan_status)\n",
    "        plt.legend(loc = 'best')\n",
    "        plt.show()\n",
    "    else:\n",
    "        plt.figure(figsize=(10,4))\n",
    "        sns.barplot(df.loan_status,df[features], hue = df.loan_status)\n",
    "        plt.legend(loc = 'best')\n",
    "        plt.show()"
   ]
  },
  {
   "cell_type": "markdown",
   "id": "95c54bc5-adab-467a-b7f6-51ea7880c81f",
   "metadata": {},
   "source": [
    "#### Observations \n",
    "##### More Loans given to :-\n",
    "- Employed \n",
    "- Married Graduate \n",
    "- Males\n",
    "- Semi Urban\n",
    "- More dependents\n",
    "- High credit history.\n",
    "- mean of loan is apprx 144"
   ]
  },
  {
   "cell_type": "markdown",
   "id": "f63634c8-60be-4a2f-909b-3f465c68a45e",
   "metadata": {},
   "source": [
    "### 5 Encode the categorical data. (2)"
   ]
  },
  {
   "cell_type": "code",
   "execution_count": 14,
   "id": "8246748b-db15-4828-aca2-13f84a9540e9",
   "metadata": {},
   "outputs": [
    {
     "data": {
      "text/html": [
       "<div>\n",
       "<style scoped>\n",
       "    .dataframe tbody tr th:only-of-type {\n",
       "        vertical-align: middle;\n",
       "    }\n",
       "\n",
       "    .dataframe tbody tr th {\n",
       "        vertical-align: top;\n",
       "    }\n",
       "\n",
       "    .dataframe thead th {\n",
       "        text-align: right;\n",
       "    }\n",
       "</style>\n",
       "<table border=\"1\" class=\"dataframe\">\n",
       "  <thead>\n",
       "    <tr style=\"text-align: right;\">\n",
       "      <th></th>\n",
       "      <th>gender</th>\n",
       "      <th>married</th>\n",
       "      <th>dependents</th>\n",
       "      <th>education</th>\n",
       "      <th>self_employed</th>\n",
       "      <th>loanamount</th>\n",
       "      <th>loan_amount_term</th>\n",
       "      <th>credit_history</th>\n",
       "      <th>property_area</th>\n",
       "      <th>loan_status</th>\n",
       "      <th>total_income</th>\n",
       "    </tr>\n",
       "  </thead>\n",
       "  <tbody>\n",
       "    <tr>\n",
       "      <th>1</th>\n",
       "      <td>1</td>\n",
       "      <td>1</td>\n",
       "      <td>1.0</td>\n",
       "      <td>1</td>\n",
       "      <td>1</td>\n",
       "      <td>128.0</td>\n",
       "      <td>360.0</td>\n",
       "      <td>1.0</td>\n",
       "      <td>0</td>\n",
       "      <td>0</td>\n",
       "      <td>6091.0</td>\n",
       "    </tr>\n",
       "    <tr>\n",
       "      <th>2</th>\n",
       "      <td>1</td>\n",
       "      <td>1</td>\n",
       "      <td>0.0</td>\n",
       "      <td>1</td>\n",
       "      <td>0</td>\n",
       "      <td>66.0</td>\n",
       "      <td>360.0</td>\n",
       "      <td>1.0</td>\n",
       "      <td>1</td>\n",
       "      <td>1</td>\n",
       "      <td>3000.0</td>\n",
       "    </tr>\n",
       "    <tr>\n",
       "      <th>3</th>\n",
       "      <td>1</td>\n",
       "      <td>1</td>\n",
       "      <td>0.0</td>\n",
       "      <td>0</td>\n",
       "      <td>1</td>\n",
       "      <td>120.0</td>\n",
       "      <td>360.0</td>\n",
       "      <td>1.0</td>\n",
       "      <td>1</td>\n",
       "      <td>1</td>\n",
       "      <td>4941.0</td>\n",
       "    </tr>\n",
       "    <tr>\n",
       "      <th>4</th>\n",
       "      <td>1</td>\n",
       "      <td>0</td>\n",
       "      <td>0.0</td>\n",
       "      <td>1</td>\n",
       "      <td>1</td>\n",
       "      <td>141.0</td>\n",
       "      <td>360.0</td>\n",
       "      <td>1.0</td>\n",
       "      <td>1</td>\n",
       "      <td>1</td>\n",
       "      <td>6000.0</td>\n",
       "    </tr>\n",
       "    <tr>\n",
       "      <th>5</th>\n",
       "      <td>1</td>\n",
       "      <td>1</td>\n",
       "      <td>2.0</td>\n",
       "      <td>1</td>\n",
       "      <td>0</td>\n",
       "      <td>267.0</td>\n",
       "      <td>360.0</td>\n",
       "      <td>1.0</td>\n",
       "      <td>1</td>\n",
       "      <td>1</td>\n",
       "      <td>9613.0</td>\n",
       "    </tr>\n",
       "  </tbody>\n",
       "</table>\n",
       "</div>"
      ],
      "text/plain": [
       "   gender  married  dependents  education  self_employed  loanamount  \\\n",
       "1       1        1         1.0          1              1       128.0   \n",
       "2       1        1         0.0          1              0        66.0   \n",
       "3       1        1         0.0          0              1       120.0   \n",
       "4       1        0         0.0          1              1       141.0   \n",
       "5       1        1         2.0          1              0       267.0   \n",
       "\n",
       "   loan_amount_term  credit_history  property_area  loan_status  total_income  \n",
       "1             360.0             1.0              0            0        6091.0  \n",
       "2             360.0             1.0              1            1        3000.0  \n",
       "3             360.0             1.0              1            1        4941.0  \n",
       "4             360.0             1.0              1            1        6000.0  \n",
       "5             360.0             1.0              1            1        9613.0  "
      ]
     },
     "execution_count": 14,
     "metadata": {},
     "output_type": "execute_result"
    }
   ],
   "source": [
    "df['gender']=np.where(df['gender']=='male',1,0).astype(int)\n",
    "df['married']=np.where(df['married']=='yes',1,0).astype(int)\n",
    "df['education']=np.where(df['education']=='graduate',1,0).astype(int)\n",
    "df['self_employed']=np.where(df['self_employed']=='yes',0,1).astype(int)\n",
    "df['property_area']=np.where(df['property_area']=='rural',0,np.where(df['property_area']=='semiurban',2,1)).astype(int)\n",
    "df['loan_status']=np.where(df['loan_status']=='y',1,0).astype(int)\n",
    "df.head()"
   ]
  },
  {
   "cell_type": "markdown",
   "id": "d3bf00e7-4b6f-41e4-bcc3-93b433eaf598",
   "metadata": {},
   "source": [
    "### 6. Separate the target and independent features and split the data into train and test. (2)\n"
   ]
  },
  {
   "cell_type": "code",
   "execution_count": 15,
   "id": "7c70244a-5add-4b22-9bd0-dfe6f2f9f4dc",
   "metadata": {},
   "outputs": [],
   "source": [
    "x=df.drop('loan_status', axis=1)\n",
    "y=df['loan_status']"
   ]
  },
  {
   "cell_type": "code",
   "execution_count": 16,
   "id": "e6eab9c1-7b15-48df-85fb-50e04c61d702",
   "metadata": {},
   "outputs": [
    {
     "name": "stdout",
     "output_type": "stream",
     "text": [
      "(336, 10) (144, 10)\n",
      "(336,) (144,)\n"
     ]
    }
   ],
   "source": [
    "X_train, X_test, Y_train, Y_test = train_test_split(x,y,test_size=.30,random_state=100) \n",
    "\n",
    "print(X_train.shape, X_test.shape)\n",
    "print(Y_train.shape, Y_test.shape)"
   ]
  },
  {
   "cell_type": "code",
   "execution_count": 17,
   "id": "273bc0b2-4307-4060-a489-7a361e672dbf",
   "metadata": {},
   "outputs": [
    {
     "data": {
      "text/plain": [
       "Index(['gender', 'married', 'dependents', 'education', 'self_employed',\n",
       "       'loanamount', 'loan_amount_term', 'credit_history', 'property_area',\n",
       "       'total_income'],\n",
       "      dtype='object')"
      ]
     },
     "execution_count": 17,
     "metadata": {},
     "output_type": "execute_result"
    }
   ],
   "source": [
    "X_train.columns"
   ]
  },
  {
   "cell_type": "markdown",
   "id": "9ab14852-e3e0-4396-8ab6-4668b1772c59",
   "metadata": {},
   "source": [
    "### 7.Build any classification model to predict the loan status of the customer and save your model using pickle. (3)\n"
   ]
  },
  {
   "cell_type": "code",
   "execution_count": 18,
   "id": "9f1bbc87-b040-41df-bcf3-1117fd942293",
   "metadata": {},
   "outputs": [
    {
     "data": {
      "text/plain": [
       "RandomForestClassifier(n_estimators=1000, random_state=42)"
      ]
     },
     "execution_count": 18,
     "metadata": {},
     "output_type": "execute_result"
    }
   ],
   "source": [
    "# Instantiate model with 1000 decision trees\n",
    "rf = RandomForestClassifier(n_estimators = 1000, random_state = 42)\n",
    "# Train the model on training data\n",
    "rf.fit(X_train, Y_train)"
   ]
  },
  {
   "cell_type": "code",
   "execution_count": 19,
   "id": "1ed6653a-c249-475a-b750-b5f39b640013",
   "metadata": {},
   "outputs": [],
   "source": [
    "pred_train =rf.predict(X_train)\n",
    "pred_test = rf.predict(X_test)"
   ]
  },
  {
   "cell_type": "code",
   "execution_count": 20,
   "id": "62ed895f-4ad6-427e-a751-6a2d610e7886",
   "metadata": {},
   "outputs": [
    {
     "data": {
      "text/plain": [
       "1.0"
      ]
     },
     "execution_count": 20,
     "metadata": {},
     "output_type": "execute_result"
    }
   ],
   "source": [
    "r2_score(Y_train,pred_train)"
   ]
  },
  {
   "cell_type": "code",
   "execution_count": 21,
   "id": "23a993c0-a2a2-477a-9e93-4f005550d93e",
   "metadata": {},
   "outputs": [
    {
     "data": {
      "text/plain": [
       "-0.008403361344537785"
      ]
     },
     "execution_count": 21,
     "metadata": {},
     "output_type": "execute_result"
    }
   ],
   "source": [
    "r2_score(Y_test,pred_test)"
   ]
  },
  {
   "cell_type": "code",
   "execution_count": 22,
   "id": "c2eae191-f87d-4826-9923-08837c43a1d0",
   "metadata": {},
   "outputs": [],
   "source": [
    "# Saving model to disk\n",
    "pickle.dump(rf, open('model.pkl','wb'))"
   ]
  }
 ],
 "metadata": {
  "kernelspec": {
   "display_name": "Python 3 (ipykernel)",
   "language": "python",
   "name": "python3"
  },
  "language_info": {
   "codemirror_mode": {
    "name": "ipython",
    "version": 3
   },
   "file_extension": ".py",
   "mimetype": "text/x-python",
   "name": "python",
   "nbconvert_exporter": "python",
   "pygments_lexer": "ipython3",
   "version": "3.9.7"
  }
 },
 "nbformat": 4,
 "nbformat_minor": 5
}
